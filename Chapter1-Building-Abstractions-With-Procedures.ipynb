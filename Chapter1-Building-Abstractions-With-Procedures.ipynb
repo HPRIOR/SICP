{
 "cells": [
  {
   "cell_type": "markdown",
   "id": "54227538",
   "metadata": {},
   "source": [
    "# Chapter 1 - Building abstractions with procedures"
   ]
  },
  {
   "cell_type": "markdown",
   "id": "0b5848a5",
   "metadata": {},
   "source": [
    "## Elements of programming\n",
    "3 mechanisms for combining simple ideas into more complex ones \n",
    "- primitive expressions (the simplest entities in the language)\n",
    "- means of combination \n",
    "- means of abstraction (the naming and manipulation of compound elements"
   ]
  },
  {
   "cell_type": "code",
   "execution_count": null,
   "id": "33f3d75d",
   "metadata": {},
   "outputs": [],
   "source": []
  }
 ],
 "metadata": {
  "kernelspec": {
   "display_name": "Calysto Scheme 3",
   "language": "scheme",
   "name": "calysto_scheme"
  },
  "language_info": {
   "codemirror_mode": {
    "name": "scheme"
   },
   "mimetype": "text/x-scheme",
   "name": "scheme",
   "pygments_lexer": "scheme"
  }
 },
 "nbformat": 4,
 "nbformat_minor": 5
}
