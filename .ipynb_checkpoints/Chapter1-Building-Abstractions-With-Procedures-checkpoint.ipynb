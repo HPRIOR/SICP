{
 "cells": [
  {
   "cell_type": "markdown",
   "id": "bd82e237",
   "metadata": {},
   "source": [
    "# Chapter 1 - Building abstractions with procedures"
   ]
  },
  {
   "cell_type": "markdown",
   "id": "246dc25f",
   "metadata": {},
   "source": [
    "## Elements of programming\n",
    "3 mechanisms for combining simple ideas into more complex ones \n",
    "- primitive expressions (the simplest entities in the language)\n",
    "- means of combination \n",
    "- means of abstraction (the naming and manipulation of compound elements)\n",
    "\n",
    "Programming languages contain two kinds of elements: procedures and data\n",
    "- the rules or methods which govern the manipulation of data\n",
    "- the data we want to manipulate"
   ]
  },
  {
   "cell_type": "markdown",
   "id": "e599a0f8",
   "metadata": {},
   "source": [
    "## Expressions\n",
    "Scheme interpreter will respond with evaluations of expressions"
   ]
  },
  {
   "cell_type": "code",
   "execution_count": 21,
   "id": "c8b08b2b",
   "metadata": {},
   "outputs": [
    {
     "data": {
      "text/plain": [
       "486"
      ]
     },
     "execution_count": 21,
     "metadata": {},
     "output_type": "execute_result"
    }
   ],
   "source": [
    "486"
   ]
  },
  {
   "cell_type": "markdown",
   "id": "f069cc0f",
   "metadata": {},
   "source": [
    "Compound expressions may be formed using primitive arithmetic procedures (lisp uses prefix notation). Expressions are combined by listing them within parentheses - these are called combinations. The left most element is the operator, the other elements are operands"
   ]
  },
  {
   "cell_type": "code",
   "execution_count": 22,
   "id": "26f3281a",
   "metadata": {},
   "outputs": [
    {
     "data": {
      "text/plain": [
       "42"
      ]
     },
     "execution_count": 22,
     "metadata": {},
     "output_type": "execute_result"
    }
   ],
   "source": [
    "(+ 39 3)"
   ]
  },
  {
   "cell_type": "code",
   "execution_count": 23,
   "id": "f8bd3b87",
   "metadata": {},
   "outputs": [
    {
     "data": {
      "text/plain": [
       "19"
      ]
     },
     "execution_count": 23,
     "metadata": {},
     "output_type": "execute_result"
    }
   ],
   "source": [
    "(+ (* 3 5) (- 10 6))"
   ]
  },
  {
   "cell_type": "code",
   "execution_count": 24,
   "id": "11bd1cee",
   "metadata": {},
   "outputs": [
    {
     "data": {
      "text/plain": [
       "57"
      ]
     },
     "execution_count": 24,
     "metadata": {},
     "output_type": "execute_result"
    }
   ],
   "source": [
    "; pretty printing\n",
    "(+ (* 3\n",
    "      (+ (* 2 4)\n",
    "         (+ 3  5)))\n",
    "   (+ (- 10 7) 6)\n",
    ")"
   ]
  },
  {
   "cell_type": "markdown",
   "id": "18c72e94",
   "metadata": {},
   "source": [
    "## Naming and the environment\n",
    "We can name computational objects in Lisp using define "
   ]
  },
  {
   "cell_type": "code",
   "execution_count": 25,
   "id": "f2d43171",
   "metadata": {},
   "outputs": [
    {
     "data": {
      "text/plain": [
       "10"
      ]
     },
     "execution_count": 25,
     "metadata": {},
     "output_type": "execute_result"
    }
   ],
   "source": [
    "(define size 2)\n",
    "(* 5 size)"
   ]
  },
  {
   "cell_type": "code",
   "execution_count": 26,
   "id": "d993e860",
   "metadata": {},
   "outputs": [],
   "source": [
    "(define pi 3.14159)\n",
    "(define radius 10)"
   ]
  },
  {
   "cell_type": "code",
   "execution_count": 27,
   "id": "d1b31567",
   "metadata": {},
   "outputs": [
    {
     "data": {
      "text/plain": [
       "314.159"
      ]
     },
     "execution_count": 27,
     "metadata": {},
     "output_type": "execute_result"
    }
   ],
   "source": [
    "(* pi (* radius radius))"
   ]
  },
  {
   "cell_type": "code",
   "execution_count": 28,
   "id": "b3a58b17",
   "metadata": {},
   "outputs": [
    {
     "data": {
      "text/plain": [
       "62.8318"
      ]
     },
     "execution_count": 28,
     "metadata": {},
     "output_type": "execute_result"
    }
   ],
   "source": [
    "(define circumference (* 2 pi radius))\n",
    "circumference"
   ]
  },
  {
   "cell_type": "markdown",
   "id": "b2cfe990",
   "metadata": {},
   "source": [
    "Define is the simplest form of abstraction in Lisp. The interpreter must maintain some sort of memory that keeps track of the name-object pairs - this is the 'global environment'"
   ]
  },
  {
   "cell_type": "markdown",
   "id": "56a5f338",
   "metadata": {},
   "source": [
    "## Evaluating combinations\n",
    "One of the aims of this chapter is to isolate issues about thinking procedurally. Evaluating an combination requires the interpreter to do some kind of procedure. \n",
    "1. Evaluate subexpressions\n",
    "2. Apply the procedure that is the value of the operator to the arguments (operands)\n",
    "\n",
    "This raises important points about processes in general:\n",
    "- The evaluation rule is recursive and must invoke itself on subexpressions. The evaluation of a complex combination can be viewed fairly simply as a tree, with 'terminal' nodes, which represent simple operands and operators\n",
    "- The repeated application of step one leads to the need to evaluate these terminal nodes. To do this we assume:\n",
    "    - the values of numerals are the numbers they name\n",
    "    - the values of built-in operators are the machine instructions sequences that carry out the corresponding operations\n",
    "    - the values of other names are the objects associated with the names in the environment\n",
    "\n",
    "The environment plays a key role in determining the evaluation of terminal nodes. `(+ x 1)` is meaningless without the definition of x. \n",
    "\n",
    "The above rules do not handle definitions - `(define x 3)` does not apply define to `x` and `3`, is is not a combination. These are called *special forms*. Each special form has its own evaluation rule. \n"
   ]
  },
  {
   "cell_type": "markdown",
   "id": "5bac41eb",
   "metadata": {},
   "source": [
    "## Compound procedures \n",
    "We have identified some common features of any programming language\n",
    "- numbers and arithmetic operations are primitive data and procedures\n",
    "- Nesting of combinations provides a means of combining operations\n",
    "- Definitions that associate names with values provide limited means of abstraction\n",
    "A more powerful technique for abstraction is procedure definition, where compound operations can be given a name and referred to as a unit.\n",
    "\n",
    "Defining a 'squaring' procedure:"
   ]
  },
  {
   "cell_type": "code",
   "execution_count": 29,
   "id": "421bbd01",
   "metadata": {},
   "outputs": [],
   "source": [
    "(define (square x) (* x x))"
   ]
  },
  {
   "cell_type": "markdown",
   "id": "f8fe3bd0",
   "metadata": {},
   "source": [
    "This can be read as 'to square something (x) multiply it by itself. The general form of procedure definition is:\n",
    "(define ([name] [formal parameters]) [body])\n",
    "- `name` is the name for the procedure in the environment\n",
    "- `formal parameters` are the names given to the arguments given to the procedure\n",
    "- `body` is the expression that will yield a value, when the formal parameters are replaced by the actual arguments to which the procedure is applied.\n",
    "\n",
    "They are used as follows:"
   ]
  },
  {
   "cell_type": "code",
   "execution_count": 30,
   "id": "040a84d9",
   "metadata": {},
   "outputs": [
    {
     "data": {
      "text/plain": [
       "441"
      ]
     },
     "execution_count": 30,
     "metadata": {},
     "output_type": "execute_result"
    }
   ],
   "source": [
    "(square 21)"
   ]
  },
  {
   "cell_type": "code",
   "execution_count": 31,
   "id": "b827251c",
   "metadata": {},
   "outputs": [
    {
     "data": {
      "text/plain": [
       "49"
      ]
     },
     "execution_count": 31,
     "metadata": {},
     "output_type": "execute_result"
    }
   ],
   "source": [
    "(square (+ 2 5))"
   ]
  },
  {
   "cell_type": "code",
   "execution_count": 32,
   "id": "bc41656b",
   "metadata": {},
   "outputs": [
    {
     "data": {
      "text/plain": [
       "81"
      ]
     },
     "execution_count": 32,
     "metadata": {},
     "output_type": "execute_result"
    }
   ],
   "source": [
    "(square (square 3))"
   ]
  },
  {
   "cell_type": "markdown",
   "id": "cde78f0f",
   "metadata": {},
   "source": [
    "The formal parameters can be any expression. We can use a definition to define other procedures:"
   ]
  },
  {
   "cell_type": "code",
   "execution_count": 33,
   "id": "b1fb0924",
   "metadata": {},
   "outputs": [
    {
     "data": {
      "text/plain": [
       "25"
      ]
     },
     "execution_count": 33,
     "metadata": {},
     "output_type": "execute_result"
    }
   ],
   "source": [
    "(define (sum-of-squares x y) \n",
    "  (+ (square x) (square y)))\n",
    "(sum-of-squares 3 4)"
   ]
  },
  {
   "cell_type": "code",
   "execution_count": 34,
   "id": "c3875fe5",
   "metadata": {},
   "outputs": [
    {
     "data": {
      "text/plain": [
       "136"
      ]
     },
     "execution_count": 34,
     "metadata": {},
     "output_type": "execute_result"
    }
   ],
   "source": [
    "(define (f a)\n",
    "  (sum-of-squares (+ a 1) (* a 2)))\n",
    "(f 5)"
   ]
  },
  {
   "cell_type": "markdown",
   "id": "ca91ff82",
   "metadata": {},
   "source": [
    "## The Substitution Model for Procedure Application\n",
    "To resolve the evaluation of combinations, the interpreter follows the same recursive process as for combinations whose operators are primitive procedures. The interpreter evaluates the elements of the combination, and applies the procedure (the value for he operator of the combination) to the arguments (the values of the operands of the combination). Each expression is recursively evaluated and replaced by the corresponding argument. \n",
    "\n",
    "`(f 5)` is evaluated as such:\n",
    "```lisp\n",
    "(sum-of-squares (+ a 1) (* a 2))\n",
    "(sum-of-squares (+ 5 1) (* 5 2))\n",
    "(sum-of-squares 6 10)\n",
    "(+ (square 6) (square 10))\n",
    "(+ (* 6 6) (* 10 10))\n",
    "(+ 36 100)\n",
    "```\n",
    "This process is called the substitution model for procedure application. It is illustrates like this to think about procedure application - there are many kinds of procedure application, and this description is not actually how the interpreter works. "
   ]
  },
  {
   "cell_type": "markdown",
   "id": "dbc09b47",
   "metadata": {},
   "source": [
    "## Applicative order vs. normal\n",
    "Another model sees operands evaluated only when they are needed - when only primitive procedures are present. \n",
    "```lisp\n",
    "(sum-of-squares (+ 5 1) (* 5 2))\n",
    "(+ (square (+ 5 1)) (square (* 5 2)))\n",
    "(+ ( * (+ 5 1) (+ 5 1)) (* (* 5 2) (* 5 2)))\n",
    "(+ (+ 6 6) (* 10 10))\n",
    "(+ 36 100)\n",
    "136\n",
    "```\n",
    "The evaluation model is different but the result is the same. The is suboptimal certain expressions are evaluated twice, instead of once. This method is called *normal order* evaluation. The 'eager' model above is called *applicative order*."
   ]
  },
  {
   "cell_type": "markdown",
   "id": "ff39557f",
   "metadata": {},
   "source": [
    "## Conditional Expressions and Predicates\n",
    "Case analysis provides a means to conduct conditional logic. The *special form* is given by `cond.  "
   ]
  },
  {
   "cell_type": "code",
   "execution_count": 3,
   "id": "8eabd618",
   "metadata": {},
   "outputs": [
    {
     "data": {
      "text/plain": [
       "10"
      ]
     },
     "execution_count": 3,
     "metadata": {},
     "output_type": "execute_result"
    }
   ],
   "source": [
    "(define (abs x)\n",
    "  (cond ((> x 0) x)\n",
    "        ((= x 0) 0)\n",
    "        ((< x 0) (- x))))\n",
    "(abs -10)"
   ]
  },
  {
   "cell_type": "markdown",
   "id": "7458c2b1",
   "metadata": {},
   "source": [
    "The general form is given by \n",
    "```lisp\n",
    "(cond (predicate) (expression))\n",
    "```\n",
    "The predicate is an expression whose value is interpreted as either true or false. If a match is found then the value of the *consequent expression* is returned. The expression above makes use of the primitive predicates `<`,`>` and `=`. Another way or writing abs is:"
   ]
  },
  {
   "cell_type": "code",
   "execution_count": 6,
   "id": "1d463d8c",
   "metadata": {},
   "outputs": [
    {
     "data": {
      "text/plain": [
       "5"
      ]
     },
     "execution_count": 6,
     "metadata": {},
     "output_type": "execute_result"
    }
   ],
   "source": [
    "(define (abs x)\n",
    "  (cond ((< x 0) (- x)) \n",
    "        (else x)))\n",
    "(abs -5)"
   ]
  },
  {
   "cell_type": "markdown",
   "id": "fa86e207",
   "metadata": {},
   "source": [
    "'If some condition then something, otherwise do something else'. `Else` is a special symbol and can be used in place of the last predicate of a `cond` expression. Another way to write this logs is to make use of an *absolute-value procedure*:"
   ]
  },
  {
   "cell_type": "code",
   "execution_count": 7,
   "id": "c490fa09",
   "metadata": {},
   "outputs": [
    {
     "data": {
      "text/plain": [
       "2.5"
      ]
     },
     "execution_count": 7,
     "metadata": {},
     "output_type": "execute_result"
    }
   ],
   "source": [
    "(define (abs x)\n",
    "  (if (< x 0)\n",
    "      (- x)\n",
    "      x))\n",
    "(abs -2.5)"
   ]
  },
  {
   "cell_type": "markdown",
   "id": "2c1bae33",
   "metadata": {},
   "source": [
    "This uses the special form `if` which is restricted type of condition which can be used to evaluate logic with only two possible cases.\n",
    "```lisp\n",
    "(if (predicate) (consequent) (alternative))\n",
    "```"
   ]
  },
  {
   "cell_type": "markdown",
   "id": "d65605f2",
   "metadata": {},
   "source": [
    "Lisp also provides logical composition operations, which enable us to construct compound predicates. \n",
    "```lisp\n",
    "(and (e1)...(en)) ; if any expressions are false then return false \n",
    "(or (e1)...(en)) ; if any of the expressions are true then return true\n",
    "(not (e1)...(en)) ; boolean flip\n",
    "```\n",
    "`and` and `or` are not procedures - not all expressions must be evaluated. `not` is just a normal procedure.\n",
    "\n",
    "To represent `5 < x < 10`:\n",
    "\n",
    "```lisp \n",
    "(and (> x 5) (< x 10))\n",
    "```\n",
    "\n",
    "We can also define greater than or equal predicate as:\n",
    "\n"
   ]
  },
  {
   "cell_type": "code",
   "execution_count": 13,
   "id": "c86733f0",
   "metadata": {},
   "outputs": [
    {
     "data": {
      "text/plain": [
       "#t"
      ]
     },
     "execution_count": 13,
     "metadata": {},
     "output_type": "execute_result"
    }
   ],
   "source": [
    "(define (>= x y) (or (> x y) (= x y)))\n",
    "; or \n",
    "(define (>= x y) (not (< x y)))\n",
    "(>= 1 1)"
   ]
  },
  {
   "cell_type": "markdown",
   "id": "a5d6eff5",
   "metadata": {},
   "source": [
    "### Exercise 1.1\n",
    "What is the result printed by the interpreter in response to each expression?"
   ]
  },
  {
   "cell_type": "code",
   "execution_count": 15,
   "id": "2844d345",
   "metadata": {},
   "outputs": [
    {
     "data": {
      "text/plain": [
       "10"
      ]
     },
     "execution_count": 15,
     "metadata": {},
     "output_type": "execute_result"
    }
   ],
   "source": [
    "10 ; 10"
   ]
  },
  {
   "cell_type": "code",
   "execution_count": 17,
   "id": "d6182493",
   "metadata": {},
   "outputs": [
    {
     "data": {
      "text/plain": [
       "12"
      ]
     },
     "execution_count": 17,
     "metadata": {},
     "output_type": "execute_result"
    }
   ],
   "source": [
    "(+ 5 3 4) ; 12"
   ]
  },
  {
   "cell_type": "code",
   "execution_count": 18,
   "id": "7f8dc3a2",
   "metadata": {},
   "outputs": [
    {
     "data": {
      "text/plain": [
       "8"
      ]
     },
     "execution_count": 18,
     "metadata": {},
     "output_type": "execute_result"
    }
   ],
   "source": [
    "(- 9 1) ; 8"
   ]
  },
  {
   "cell_type": "code",
   "execution_count": 19,
   "id": "9b426d38",
   "metadata": {},
   "outputs": [
    {
     "data": {
      "text/plain": [
       "3"
      ]
     },
     "execution_count": 19,
     "metadata": {},
     "output_type": "execute_result"
    }
   ],
   "source": [
    "(/ 6 2) ; 3"
   ]
  },
  {
   "cell_type": "code",
   "execution_count": 20,
   "id": "218d8f19",
   "metadata": {},
   "outputs": [
    {
     "data": {
      "text/plain": [
       "6"
      ]
     },
     "execution_count": 20,
     "metadata": {},
     "output_type": "execute_result"
    }
   ],
   "source": [
    "(+ (* 2 4) (- 4 6)) ; (+ 8 -2) ; 6"
   ]
  },
  {
   "cell_type": "code",
   "execution_count": 21,
   "id": "b629dc64",
   "metadata": {},
   "outputs": [],
   "source": [
    "(define a 3) ;"
   ]
  },
  {
   "cell_type": "code",
   "execution_count": 22,
   "id": "3b592454",
   "metadata": {},
   "outputs": [],
   "source": [
    "(define b (+ a 1)) ;"
   ]
  },
  {
   "cell_type": "code",
   "execution_count": 23,
   "id": "6d88031e",
   "metadata": {},
   "outputs": [
    {
     "data": {
      "text/plain": [
       "19"
      ]
     },
     "execution_count": 23,
     "metadata": {},
     "output_type": "execute_result"
    }
   ],
   "source": [
    "(+ a b (* a b)) ; (+ 3 4 (* 3 4)) ; (+ 3 4 12) ; 19"
   ]
  },
  {
   "cell_type": "code",
   "execution_count": 24,
   "id": "f8f28edb",
   "metadata": {},
   "outputs": [
    {
     "data": {
      "text/plain": [
       "#f"
      ]
     },
     "execution_count": 24,
     "metadata": {},
     "output_type": "execute_result"
    }
   ],
   "source": [
    "(= a b) ; false"
   ]
  },
  {
   "cell_type": "code",
   "execution_count": 25,
   "id": "c0d3f45b",
   "metadata": {},
   "outputs": [
    {
     "data": {
      "text/plain": [
       "4"
      ]
     },
     "execution_count": 25,
     "metadata": {},
     "output_type": "execute_result"
    }
   ],
   "source": [
    "(if (and (> a b) (< b (* a b)))\n",
    "    a\n",
    "    b) ; 4"
   ]
  },
  {
   "cell_type": "code",
   "execution_count": 28,
   "id": "7173effa",
   "metadata": {},
   "outputs": [
    {
     "data": {
      "text/plain": [
       "16"
      ]
     },
     "execution_count": 28,
     "metadata": {},
     "output_type": "execute_result"
    }
   ],
   "source": [
    "(cond ((= a 4) 6)\n",
    "      ((= b 4) (+ 6 7 a))\n",
    "      (else 25)) ; 16"
   ]
  },
  {
   "cell_type": "code",
   "execution_count": 29,
   "id": "cbfe64bf",
   "metadata": {},
   "outputs": [
    {
     "data": {
      "text/plain": [
       "6"
      ]
     },
     "execution_count": 29,
     "metadata": {},
     "output_type": "execute_result"
    }
   ],
   "source": [
    "(+ 2 (if (> b a) b a)) ; 6"
   ]
  },
  {
   "cell_type": "code",
   "execution_count": 32,
   "id": "d5770a82",
   "metadata": {},
   "outputs": [
    {
     "data": {
      "text/plain": [
       "16"
      ]
     },
     "execution_count": 32,
     "metadata": {},
     "output_type": "execute_result"
    }
   ],
   "source": [
    "(* (cond((> a b) a)\n",
    "        ((< a b) b)\n",
    "        (else -1))\n",
    "   (+ a 1)) ; 16"
   ]
  },
  {
   "cell_type": "code",
   "execution_count": null,
   "id": "4fe83f68",
   "metadata": {},
   "outputs": [],
   "source": []
  }
 ],
 "metadata": {
  "kernelspec": {
   "display_name": "Calysto Scheme 3",
   "language": "scheme",
   "name": "calysto_scheme"
  },
  "language_info": {
   "codemirror_mode": {
    "name": "scheme"
   },
   "mimetype": "text/x-scheme",
   "name": "scheme",
   "pygments_lexer": "scheme"
  }
 },
 "nbformat": 4,
 "nbformat_minor": 5
}
